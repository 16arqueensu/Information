{
 "cells": [
  {
   "cell_type": "code",
   "execution_count": 1,
   "metadata": {},
   "outputs": [],
   "source": [
    "import pandas as pd\n",
    "import numpy as np\n",
    "from sklearn.linear_model import LogisticRegression\n",
    "from sklearn.metrics import f1_score\n",
    "from pprint import pprint"
   ]
  },
  {
   "cell_type": "code",
   "execution_count": 2,
   "metadata": {},
   "outputs": [
    {
     "data": {
      "text/plain": [
       "(5909, 192)"
      ]
     },
     "execution_count": 2,
     "metadata": {},
     "output_type": "execute_result"
    }
   ],
   "source": [
    "data = pd.read_csv('train.csv')\n",
    "data_test = pd.read_csv('test.csv')\n",
    "data.shape"
   ]
  },
  {
   "cell_type": "code",
   "execution_count": 3,
   "metadata": {},
   "outputs": [
    {
     "data": {
      "text/plain": [
       "<matplotlib.axes._subplots.AxesSubplot at 0x7fbe447f5650>"
      ]
     },
     "execution_count": 3,
     "metadata": {},
     "output_type": "execute_result"
    },
    {
     "data": {
      "image/png": "[encoded data removed]",
      "text/plain": [
       "<Figure size 432x288 with 1 Axes>"
      ]
     },
     "metadata": {
      "needs_background": "light"
     },
     "output_type": "display_data"
    }
   ],
   "source": [
    "data.isnull().sum().hist()"
   ]
  },
  {
   "cell_type": "code",
   "execution_count": 4,
   "metadata": {},
   "outputs": [
    {
     "data": {
      "text/plain": [
       "<matplotlib.axes._subplots.AxesSubplot at 0x7fbe446bfcd0>"
      ]
     },
     "execution_count": 4,
     "metadata": {},
     "output_type": "execute_result"
    },
    {
     "data": {
      "image/png": "[encoded data removed]",
      "text/plain": [
       "<Figure size 432x288 with 1 Axes>"
      ]
     },
     "metadata": {
      "needs_background": "light"
     },
     "output_type": "display_data"
    }
   ],
   "source": [
    "data['match'].hist()"
   ]
  },
  {
   "cell_type": "code",
   "execution_count": 5,
   "metadata": {},
   "outputs": [
    {
     "name": "stdout",
     "output_type": "stream",
     "text": [
      "Requirement already satisfied: scikit-optimize in /opt/conda/lib/python3.7/site-packages (0.8.1)\n",
      "Requirement already satisfied: pyaml>=16.9 in /opt/conda/lib/python3.7/site-packages (from scikit-optimize) (20.4.0)\n",
      "Requirement already satisfied: joblib>=0.11 in /opt/conda/lib/python3.7/site-packages (from scikit-optimize) (0.16.0)\n",
      "Requirement already satisfied: scikit-learn>=0.20.0 in /opt/conda/lib/python3.7/site-packages (from scikit-optimize) (0.22.2.post1)\n",
      "Requirement already satisfied: scipy>=0.19.1 in /opt/conda/lib/python3.7/site-packages (from scikit-optimize) (1.4.1)\n",
      "Requirement already satisfied: numpy>=1.13.3 in /opt/conda/lib/python3.7/site-packages (from scikit-optimize) (1.18.5)\n",
      "Requirement already satisfied: PyYAML in /opt/conda/lib/python3.7/site-packages (from pyaml>=16.9->scikit-optimize) (5.3.1)\n"
     ]
    }
   ],
   "source": [
    "# if you haven't installed xgboost on your system, uncomment the line below\n",
    "# !pip install xgboost\n",
    "# if you haven't installed bayesian-optimization on your system, uncomment the line below\n",
    "!pip install scikit-optimize"
   ]
  },
  {
   "cell_type": "code",
   "execution_count": 6,
   "metadata": {},
   "outputs": [],
   "source": [
    "x = data.drop('match', axis=1)\n",
    "features_numeric = list(x.select_dtypes(include=['float64']))\n",
    "features_categorical = list(x.select_dtypes(include=['object']))\n",
    "y = data['match']"
   ]
  },
  {
   "cell_type": "code",
   "execution_count": 7,
   "metadata": {},
   "outputs": [
    {
     "name": "stdout",
     "output_type": "stream",
     "text": [
      "['field', 'undergra', 'mn_sat', 'tuition', 'from', 'zipcode', 'income', 'career']\n"
     ]
    }
   ],
   "source": [
    "print(features_categorical)"
   ]
  },
  {
   "cell_type": "code",
   "execution_count": 8,
   "metadata": {},
   "outputs": [
    {
     "name": "stdout",
     "output_type": "stream",
     "text": [
      "Fitting 5 folds for each of 6 candidates, totalling 30 fits\n"
     ]
    },
    {
     "name": "stderr",
     "output_type": "stream",
     "text": [
      "[Parallel(n_jobs=2)]: Using backend LokyBackend with 2 concurrent workers.\n",
      "[Parallel(n_jobs=2)]: Done  30 out of  30 | elapsed:   33.6s finished\n"
     ]
    },
    {
     "name": "stdout",
     "output_type": "stream",
     "text": [
      "best score 0.8771809088605341\n",
      "best score {'my_classifier__max_depth': 10, 'my_classifier__n_estimators': 100, 'preprocessor__num__imputer__strategy': 'mean'}\n"
     ]
    }
   ],
   "source": [
    "import numpy as np\n",
    "from sklearn.compose import ColumnTransformer\n",
    "from sklearn.datasets import fetch_openml\n",
    "from sklearn.pipeline import Pipeline\n",
    "from sklearn.impute import SimpleImputer\n",
    "from sklearn.preprocessing import StandardScaler, OneHotEncoder\n",
    "from sklearn.linear_model import LogisticRegression\n",
    "from sklearn.model_selection import train_test_split, GridSearchCV\n",
    "from xgboost.sklearn import XGBClassifier\n",
    "\n",
    "np.random.seed(0)\n",
    "\n",
    "transformer_numeric = Pipeline(\n",
    "    steps=[\n",
    "        ('imputer', SimpleImputer(strategy='median')),\n",
    "        ('scaler', StandardScaler())]\n",
    ")\n",
    "\n",
    "transformer_categorical = Pipeline(\n",
    "    steps=[\n",
    "        ('imputer', SimpleImputer(strategy='constant', fill_value='missing')),\n",
    "        ('onehot', OneHotEncoder(handle_unknown='ignore'))\n",
    "    ]\n",
    ")\n",
    "\n",
    "preprocessor = ColumnTransformer(\n",
    "    transformers=[\n",
    "        ('num', transformer_numeric, features_numeric),\n",
    "        ('cat', transformer_categorical, features_categorical)\n",
    "    ]\n",
    ")\n",
    "\n",
    "full_pipline = Pipeline(\n",
    "    steps=[\n",
    "        ('preprocessor', preprocessor),\n",
    "        ('my_classifier', XGBClassifier(\n",
    "            objective='binary:logistic', seed=1))\n",
    "    ]\n",
    ")\n",
    "\n",
    "\n",
    "\n",
    "# `__` denotes attribute \n",
    "# (e.g. my_classifier__n_estimators means the `n_estimators` param for `my_classifier`\n",
    "#  which is our xgb)\n",
    "param_grid = {\n",
    "    'preprocessor__num__imputer__strategy': ['mean'],\n",
    "    'my_classifier__n_estimators': [10, 20, 100],\n",
    "    'my_classifier__max_depth':[10, 20]\n",
    "}\n",
    "\n",
    "grid_search = GridSearchCV(\n",
    "    full_pipline, param_grid, cv=5, verbose=3, n_jobs=2, \n",
    "    scoring='roc_auc')\n",
    "\n",
    "grid_search.fit(x, y)\n",
    "\n",
    "print('best score {}'.format(grid_search.best_score_))\n",
    "print('best score {}'.format(grid_search.best_params_))"
   ]
  },
  {
   "cell_type": "code",
   "execution_count": 9,
   "metadata": {},
   "outputs": [
    {
     "data": {
      "text/html": [
       "<div>\n",
       "<style scoped>\n",
       "    .dataframe tbody tr th:only-of-type {\n",
       "        vertical-align: middle;\n",
       "    }\n",
       "\n",
       "    .dataframe tbody tr th {\n",
       "        vertical-align: top;\n",
       "    }\n",
       "\n",
       "    .dataframe thead th {\n",
       "        text-align: right;\n",
       "    }\n",
       "</style>\n",
       "<table border=\"1\" class=\"dataframe\">\n",
       "  <thead>\n",
       "    <tr style=\"text-align: right;\">\n",
       "      <th></th>\n",
       "      <th>id</th>\n",
       "      <th>match</th>\n",
       "    </tr>\n",
       "  </thead>\n",
       "  <tbody>\n",
       "    <tr>\n",
       "      <th>0</th>\n",
       "      <td>934</td>\n",
       "      <td>0.001090</td>\n",
       "    </tr>\n",
       "    <tr>\n",
       "      <th>1</th>\n",
       "      <td>6539</td>\n",
       "      <td>0.681770</td>\n",
       "    </tr>\n",
       "    <tr>\n",
       "      <th>2</th>\n",
       "      <td>6757</td>\n",
       "      <td>0.105092</td>\n",
       "    </tr>\n",
       "    <tr>\n",
       "      <th>3</th>\n",
       "      <td>2275</td>\n",
       "      <td>0.002627</td>\n",
       "    </tr>\n",
       "    <tr>\n",
       "      <th>4</th>\n",
       "      <td>1052</td>\n",
       "      <td>0.005981</td>\n",
       "    </tr>\n",
       "    <tr>\n",
       "      <th>...</th>\n",
       "      <td>...</td>\n",
       "      <td>...</td>\n",
       "    </tr>\n",
       "    <tr>\n",
       "      <th>2464</th>\n",
       "      <td>7982</td>\n",
       "      <td>0.007812</td>\n",
       "    </tr>\n",
       "    <tr>\n",
       "      <th>2465</th>\n",
       "      <td>7299</td>\n",
       "      <td>0.757996</td>\n",
       "    </tr>\n",
       "    <tr>\n",
       "      <th>2466</th>\n",
       "      <td>1818</td>\n",
       "      <td>0.037719</td>\n",
       "    </tr>\n",
       "    <tr>\n",
       "      <th>2467</th>\n",
       "      <td>937</td>\n",
       "      <td>0.001178</td>\n",
       "    </tr>\n",
       "    <tr>\n",
       "      <th>2468</th>\n",
       "      <td>6691</td>\n",
       "      <td>0.000292</td>\n",
       "    </tr>\n",
       "  </tbody>\n",
       "</table>\n",
       "<p>2469 rows × 2 columns</p>\n",
       "</div>"
      ],
      "text/plain": [
       "        id     match\n",
       "0      934  0.001090\n",
       "1     6539  0.681770\n",
       "2     6757  0.105092\n",
       "3     2275  0.002627\n",
       "4     1052  0.005981\n",
       "...    ...       ...\n",
       "2464  7982  0.007812\n",
       "2465  7299  0.757996\n",
       "2466  1818  0.037719\n",
       "2467   937  0.001178\n",
       "2468  6691  0.000292\n",
       "\n",
       "[2469 rows x 2 columns]"
      ]
     },
     "execution_count": 9,
     "metadata": {},
     "output_type": "execute_result"
    }
   ],
   "source": [
    "# prepare submission:\n",
    "submission = pd.DataFrame()\n",
    "submission['id'] = data_test['id']\n",
    "submission['match'] = grid_search.predict_proba(data_test)[:,1]\n",
    "submission.to_csv('sample_submission_walkthrough.csv', index=False)\n",
    "submission"
   ]
  },
  {
   "cell_type": "code",
   "execution_count": 13,
   "metadata": {},
   "outputs": [
    {
     "name": "stdout",
     "output_type": "stream",
     "text": [
      "Fitting 5 folds for each of 1 candidates, totalling 5 fits\n",
      "[CV] my_svc__C=2.352718564818733, my_svc__degree=6, my_svc__gamma=0.022854318128961743, my_svc__kernel=poly \n"
     ]
    },
    {
     "name": "stderr",
     "output_type": "stream",
     "text": [
      "[Parallel(n_jobs=1)]: Using backend SequentialBackend with 1 concurrent workers.\n"
     ]
    },
    {
     "name": "stdout",
     "output_type": "stream",
     "text": [
      "[CV]  my_svc__C=2.352718564818733, my_svc__degree=6, my_svc__gamma=0.022854318128961743, my_svc__kernel=poly, score=0.830, total=   7.8s\n",
      "[CV] my_svc__C=2.352718564818733, my_svc__degree=6, my_svc__gamma=0.022854318128961743, my_svc__kernel=poly \n"
     ]
    },
    {
     "name": "stderr",
     "output_type": "stream",
     "text": [
      "[Parallel(n_jobs=1)]: Done   1 out of   1 | elapsed:    7.8s remaining:    0.0s\n"
     ]
    },
    {
     "name": "stdout",
     "output_type": "stream",
     "text": [
      "[CV]  my_svc__C=2.352718564818733, my_svc__degree=6, my_svc__gamma=0.022854318128961743, my_svc__kernel=poly, score=0.812, total=   6.0s\n",
      "[CV] my_svc__C=2.352718564818733, my_svc__degree=6, my_svc__gamma=0.022854318128961743, my_svc__kernel=poly \n"
     ]
    },
    {
     "name": "stderr",
     "output_type": "stream",
     "text": [
      "[Parallel(n_jobs=1)]: Done   2 out of   2 | elapsed:   13.8s remaining:    0.0s\n"
     ]
    },
    {
     "name": "stdout",
     "output_type": "stream",
     "text": [
      "[CV]  my_svc__C=2.352718564818733, my_svc__degree=6, my_svc__gamma=0.022854318128961743, my_svc__kernel=poly, score=0.818, total=   6.1s\n",
      "[CV] my_svc__C=2.352718564818733, my_svc__degree=6, my_svc__gamma=0.022854318128961743, my_svc__kernel=poly \n",
      "[CV]  my_svc__C=2.352718564818733, my_svc__degree=6, my_svc__gamma=0.022854318128961743, my_svc__kernel=poly, score=0.821, total=   9.3s\n",
      "[CV] my_svc__C=2.352718564818733, my_svc__degree=6, my_svc__gamma=0.022854318128961743, my_svc__kernel=poly \n",
      "[CV]  my_svc__C=2.352718564818733, my_svc__degree=6, my_svc__gamma=0.022854318128961743, my_svc__kernel=poly, score=0.832, total=   7.9s\n",
      "Fitting 5 folds for each of 1 candidates, totalling 5 fits\n",
      "[CV] my_svc__C=0.0012602593949011189, my_svc__degree=8, my_svc__gamma=2.285959941576884, my_svc__kernel=poly \n"
     ]
    },
    {
     "name": "stderr",
     "output_type": "stream",
     "text": [
      "[Parallel(n_jobs=1)]: Done   5 out of   5 | elapsed:   37.1s finished\n",
      "[Parallel(n_jobs=1)]: Using backend SequentialBackend with 1 concurrent workers.\n"
     ]
    },
    {
     "name": "stdout",
     "output_type": "stream",
     "text": [
      "[CV]  my_svc__C=0.0012602593949011189, my_svc__degree=8, my_svc__gamma=2.285959941576884, my_svc__kernel=poly, score=0.838, total=   7.8s\n",
      "[CV] my_svc__C=0.0012602593949011189, my_svc__degree=8, my_svc__gamma=2.285959941576884, my_svc__kernel=poly \n"
     ]
    },
    {
     "name": "stderr",
     "output_type": "stream",
     "text": [
      "[Parallel(n_jobs=1)]: Done   1 out of   1 | elapsed:    7.8s remaining:    0.0s\n"
     ]
    },
    {
     "name": "stdout",
     "output_type": "stream",
     "text": [
      "[CV]  my_svc__C=0.0012602593949011189, my_svc__degree=8, my_svc__gamma=2.285959941576884, my_svc__kernel=poly, score=0.814, total=   6.3s\n",
      "[CV] my_svc__C=0.0012602593949011189, my_svc__degree=8, my_svc__gamma=2.285959941576884, my_svc__kernel=poly \n"
     ]
    },
    {
     "name": "stderr",
     "output_type": "stream",
     "text": [
      "[Parallel(n_jobs=1)]: Done   2 out of   2 | elapsed:   14.0s remaining:    0.0s\n"
     ]
    },
    {
     "name": "stdout",
     "output_type": "stream",
     "text": [
      "[CV]  my_svc__C=0.0012602593949011189, my_svc__degree=8, my_svc__gamma=2.285959941576884, my_svc__kernel=poly, score=0.821, total=   6.1s\n",
      "[CV] my_svc__C=0.0012602593949011189, my_svc__degree=8, my_svc__gamma=2.285959941576884, my_svc__kernel=poly \n",
      "[CV]  my_svc__C=0.0012602593949011189, my_svc__degree=8, my_svc__gamma=2.285959941576884, my_svc__kernel=poly, score=0.822, total=   8.3s\n",
      "[CV] my_svc__C=0.0012602593949011189, my_svc__degree=8, my_svc__gamma=2.285959941576884, my_svc__kernel=poly \n",
      "[CV]  my_svc__C=0.0012602593949011189, my_svc__degree=8, my_svc__gamma=2.285959941576884, my_svc__kernel=poly, score=0.832, total=   8.5s\n",
      "Fitting 5 folds for each of 1 candidates, totalling 5 fits\n",
      "[CV] my_svc__C=2.2095350994035026, my_svc__degree=1, my_svc__gamma=0.0002488766453161173, my_svc__kernel=linear \n"
     ]
    },
    {
     "name": "stderr",
     "output_type": "stream",
     "text": [
      "[Parallel(n_jobs=1)]: Done   5 out of   5 | elapsed:   37.0s finished\n",
      "[Parallel(n_jobs=1)]: Using backend SequentialBackend with 1 concurrent workers.\n"
     ]
    },
    {
     "name": "stdout",
     "output_type": "stream",
     "text": [
      "[CV]  my_svc__C=2.2095350994035026, my_svc__degree=1, my_svc__gamma=0.0002488766453161173, my_svc__kernel=linear, score=0.806, total=   6.6s\n",
      "[CV] my_svc__C=2.2095350994035026, my_svc__degree=1, my_svc__gamma=0.0002488766453161173, my_svc__kernel=linear \n"
     ]
    },
    {
     "name": "stderr",
     "output_type": "stream",
     "text": [
      "[Parallel(n_jobs=1)]: Done   1 out of   1 | elapsed:    6.6s remaining:    0.0s\n"
     ]
    },
    {
     "name": "stdout",
     "output_type": "stream",
     "text": [
      "[CV]  my_svc__C=2.2095350994035026, my_svc__degree=1, my_svc__gamma=0.0002488766453161173, my_svc__kernel=linear, score=0.790, total=   7.4s\n",
      "[CV] my_svc__C=2.2095350994035026, my_svc__degree=1, my_svc__gamma=0.0002488766453161173, my_svc__kernel=linear \n"
     ]
    },
    {
     "name": "stderr",
     "output_type": "stream",
     "text": [
      "[Parallel(n_jobs=1)]: Done   2 out of   2 | elapsed:   14.0s remaining:    0.0s\n"
     ]
    },
    {
     "name": "stdout",
     "output_type": "stream",
     "text": [
      "[CV]  my_svc__C=2.2095350994035026, my_svc__degree=1, my_svc__gamma=0.0002488766453161173, my_svc__kernel=linear, score=0.793, total=   6.8s\n",
      "[CV] my_svc__C=2.2095350994035026, my_svc__degree=1, my_svc__gamma=0.0002488766453161173, my_svc__kernel=linear \n",
      "[CV]  my_svc__C=2.2095350994035026, my_svc__degree=1, my_svc__gamma=0.0002488766453161173, my_svc__kernel=linear, score=0.790, total=   8.2s\n",
      "[CV] my_svc__C=2.2095350994035026, my_svc__degree=1, my_svc__gamma=0.0002488766453161173, my_svc__kernel=linear \n",
      "[CV]  my_svc__C=2.2095350994035026, my_svc__degree=1, my_svc__gamma=0.0002488766453161173, my_svc__kernel=linear, score=0.796, total=   8.5s\n"
     ]
    },
    {
     "name": "stderr",
     "output_type": "stream",
     "text": [
      "[Parallel(n_jobs=1)]: Done   5 out of   5 | elapsed:   37.5s finished\n"
     ]
    },
    {
     "data": {
      "text/plain": [
       "BayesSearchCV(cv=None, error_score='raise',\n",
       "              estimator=Pipeline(memory=None,\n",
       "                                 steps=[('preprocessor',\n",
       "                                         ColumnTransformer(n_jobs=None,\n",
       "                                                           remainder='drop',\n",
       "                                                           sparse_threshold=0.3,\n",
       "                                                           transformer_weights=None,\n",
       "                                                           transformers=[('num',\n",
       "                                                                          Pipeline(memory=None,\n",
       "                                                                                   steps=[('imputer',\n",
       "                                                                                           SimpleImputer(add_indicator=False,\n",
       "                                                                                                         copy=True,\n",
       "                                                                                                         fill_value=None,\n",
       "                                                                                                         missing_values=nan,\n",
       "                                                                                                         strategy='median',\n",
       "                                                                                                         verb...\n",
       "              refit=True, return_train_score=False, scoring=None,\n",
       "              search_spaces={'my_svc__C': Real(low=1e-06, high=1000000.0, prior='log-uniform', transform='identity'),\n",
       "                             'my_svc__degree': Integer(low=1, high=8, prior='uniform', transform='identity'),\n",
       "                             'my_svc__gamma': Real(low=1e-06, high=10.0, prior='log-uniform', transform='identity'),\n",
       "                             'my_svc__kernel': Categorical(categories=('linear', 'poly', 'rbf'), prior=None)},\n",
       "              verbose=3)"
      ]
     },
     "execution_count": 13,
     "metadata": {},
     "output_type": "execute_result"
    }
   ],
   "source": [
    "from skopt import BayesSearchCV\n",
    "from skopt.space import Real, Categorical, Integer\n",
    "from sklearn.svm import SVC\n",
    "\n",
    "\n",
    "SVC_pipline = Pipeline(\n",
    "    steps=[\n",
    "        ('preprocessor', preprocessor),\n",
    "        ('my_svc', SVC(class_weight='balanced'))\n",
    "    ]\n",
    ")\n",
    "# SVC has a class_weight attribute for unbalanced data\n",
    "\n",
    "\n",
    "# define ranges for bayes search\n",
    "bayes_search = BayesSearchCV(\n",
    "    SVC_pipline,\n",
    "    {\n",
    "        'my_svc__C': Real(1e-6, 1e+6, prior='log-uniform'),\n",
    "        'my_svc__gamma': Real(1e-6, 1e+1, prior='log-uniform'),\n",
    "        'my_svc__degree': Integer(1,8),\n",
    "        'my_svc__kernel': Categorical(['linear', 'poly', 'rbf']),\n",
    "    },\n",
    "    n_iter=3,\n",
    "    random_state=0,\n",
    "    verbose=3,\n",
    ")\n",
    "\n",
    "bayes_search.fit(x, y)\n",
    "\n"
   ]
  },
  {
   "cell_type": "code",
   "execution_count": 14,
   "metadata": {},
   "outputs": [
    {
     "name": "stdout",
     "output_type": "stream",
     "text": [
      "best score 0.825520392621425\n",
      "best score OrderedDict([('my_svc__C', 0.0012602593949011189), ('my_svc__degree', 8), ('my_svc__gamma', 2.285959941576884), ('my_svc__kernel', 'poly')])\n"
     ]
    }
   ],
   "source": [
    "print('best score {}'.format(bayes_search.best_score_))\n",
    "print('best score {}'.format(bayes_search.best_params_))"
   ]
  },
  {
   "cell_type": "code",
   "execution_count": 12,
   "metadata": {},
   "outputs": [
    {
     "name": "stdout",
     "output_type": "stream",
     "text": [
      "all the cv scores\n",
      "defaultdict(<class 'list'>,\n",
      "            {'mean_fit_time': [6.4402868270874025,\n",
      "                               6.599919605255127,\n",
      "                               5.107129049301148],\n",
      "             'mean_score_time': [0.8061585903167725,\n",
      "                                 0.8487374305725097,\n",
      "                                 0.38350872993469237],\n",
      "             'mean_test_score': [0.822812658656287,\n",
      "                                 0.825520392621425,\n",
      "                                 0.8531054323912676],\n",
      "             'param_my_svc__C': [2.352718564818733,\n",
      "                                 0.0012602593949011189,\n",
      "                                 2.2095350994035026],\n",
      "             'param_my_svc__degree': [6, 8, 1],\n",
      "             'param_my_svc__gamma': [0.022854318128961743,\n",
      "                                     2.285959941576884,\n",
      "                                     0.0002488766453161173],\n",
      "             'param_my_svc__kernel': ['poly', 'poly', 'linear'],\n",
      "             'params': [OrderedDict([('my_svc__C', 2.352718564818733),\n",
      "                                     ('my_svc__degree', 6),\n",
      "                                     ('my_svc__gamma', 0.022854318128961743),\n",
      "                                     ('my_svc__kernel', 'poly')]),\n",
      "                        OrderedDict([('my_svc__C', 0.0012602593949011189),\n",
      "                                     ('my_svc__degree', 8),\n",
      "                                     ('my_svc__gamma', 2.285959941576884),\n",
      "                                     ('my_svc__kernel', 'poly')]),\n",
      "                        OrderedDict([('my_svc__C', 2.2095350994035026),\n",
      "                                     ('my_svc__degree', 1),\n",
      "                                     ('my_svc__gamma', 0.0002488766453161173),\n",
      "                                     ('my_svc__kernel', 'linear')])],\n",
      "             'rank_test_score': [3, 2, 1],\n",
      "             'split0_test_score': [0.8299492385786802,\n",
      "                                   0.8375634517766497,\n",
      "                                   0.8654822335025381],\n",
      "             'split1_test_score': [0.8121827411167513,\n",
      "                                   0.8138747884940778,\n",
      "                                   0.8519458544839256],\n",
      "             'split2_test_score': [0.8181049069373942,\n",
      "                                   0.8214890016920474,\n",
      "                                   0.8494077834179357],\n",
      "             'split3_test_score': [0.8214890016920474,\n",
      "                                   0.8223350253807107,\n",
      "                                   0.8451776649746193],\n",
      "             'split4_test_score': [0.8323454699407282,\n",
      "                                   0.8323454699407282,\n",
      "                                   0.8535139712108383],\n",
      "             'std_fit_time': [0.9539574594953313,\n",
      "                              1.0411539651277306,\n",
      "                              0.28104997162819684],\n",
      "             'std_score_time': [0.010239015372435992,\n",
      "                                0.01759645900714314,\n",
      "                                0.00845733212418222],\n",
      "             'std_test_score': [0.007465730745767402,\n",
      "                                0.008410186182215814,\n",
      "                                0.006800850292358355]})\n"
     ]
    }
   ],
   "source": [
    "print('all the cv scores')\n",
    "pprint(bayes_search.cv_results_)"
   ]
  },
  {
   "cell_type": "code",
   "execution_count": null,
   "metadata": {},
   "outputs": [],
   "source": []
  }
 ],
 "metadata": {
  "kernelspec": {
   "display_name": "Python 3",
   "language": "python",
   "name": "python3"
  },
  "language_info": {
   "codemirror_mode": {
    "name": "ipython",
    "version": 3
   },
   "file_extension": ".py",
   "mimetype": "text/x-python",
   "name": "python",
   "nbconvert_exporter": "python",
   "pygments_lexer": "ipython3",
   "version": "3.7.8"
  }
 },
 "nbformat": 4,
 "nbformat_minor": 4
}
