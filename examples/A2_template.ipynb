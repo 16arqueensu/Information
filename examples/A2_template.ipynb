{
 "cells": [
  {
   "cell_type": "code",
   "execution_count": null,
   "metadata": {},
   "outputs": [],
   "source": [
    "from tqdm import tqdm\n",
    "from PIL import Image\n",
    "import pandas as pd\n",
    "import os\n",
    "import numpy as np\n",
    "\n",
    "\n",
    "def load_data(folder):\n",
    "    images = []\n",
    "    for file in os.listdir(folder):\n",
    "        file_id = file.replace('.png', '')\n",
    "        image = Image.open(\n",
    "            os.path.join(folder, file)\n",
    "        ).convert('LA').resize((256, 256))\n",
    "        arr = np.array(image)\n",
    "        images.append(\n",
    "            (int(file_id), arr)\n",
    "        )\n",
    "    images.sort(key=lambda i: i[0])\n",
    "    return np.array([v for _id, v in images])\n",
    "\n",
    "\n",
    "\n",
    "x_train = load_data('train')\n",
    "y_train = pd.read_csv('y_train.csv')['infection']"
   ]
  },
  {
   "cell_type": "code",
   "execution_count": null,
   "metadata": {},
   "outputs": [],
   "source": [
    "import tensorflow as tf\n",
    "from tensorflow.keras.models import Sequential\n",
    "from tensorflow.keras.layers import Conv2D, Flatten, Dense, Dropout, Input\n",
    "\n",
    "def build():\n",
    "    img_in = Input(shape=(256, 256, 2))\n",
    "    flattened = Flatten()(img_in)\n",
    "    fc1 = Dense(64)(flattened)\n",
    "    #fc1 = Dropout(0.3)(fc1)\n",
    "    fc2 = Dense(32)(fc1)\n",
    "    #fc2 = Dropout(0.3)(fc2)\n",
    "    output = Dense(1, activation = 'sigmoid')(fc2)\n",
    "    model = tf.keras.Model(inputs=img_in, outputs=output)\n",
    "    return model\n",
    "\n",
    "\n",
    "model = build()\n",
    "model.compile(\n",
    "        optimizer=tf.keras.optimizers.Adam(),\n",
    "        loss='binary_crossentropy',\n",
    "        metrics=['BinaryAccuracy', 'AUC']\n",
    "        )\n",
    "\n",
    "model.summary()\n",
    "\n"
   ]
  },
  {
   "cell_type": "code",
   "execution_count": null,
   "metadata": {},
   "outputs": [],
   "source": [
    "epochs = 30\n",
    "batch_size = 64\n",
    "\n",
    "history = model.fit(x = x_train,\n",
    "                    y = y_train,\n",
    "                    batch_size = batch_size,\n",
    "                    validation_split=0.3,\n",
    "                    epochs=epochs\n",
    "                    )"
   ]
  },
  {
   "cell_type": "code",
   "execution_count": null,
   "metadata": {},
   "outputs": [],
   "source": [
    "x_test = load_data('test')\n",
    "\n",
    "y_test = model.predict(x_test)\n",
    "\n",
    "y_test_df = pd.DataFrame()\n",
    "y_test_df['id'] = np.arange(len(y_test))\n",
    "y_test_df['infection'] = y_test.astype(float)\n",
    "y_test_df.to_csv('submission.csv', index=False)\n",
    "\n"
   ]
  },
  {
   "cell_type": "code",
   "execution_count": null,
   "metadata": {},
   "outputs": [],
   "source": []
  }
 ],
 "metadata": {
  "kernelspec": {
   "display_name": "Python 3",
   "language": "python",
   "name": "python3"
  },
  "language_info": {
   "codemirror_mode": {
    "name": "ipython",
    "version": 3
   },
   "file_extension": ".py",
   "mimetype": "text/x-python",
   "name": "python",
   "nbconvert_exporter": "python",
   "pygments_lexer": "ipython3",
   "version": "3.7.8"
  }
 },
 "nbformat": 4,
 "nbformat_minor": 4
}
